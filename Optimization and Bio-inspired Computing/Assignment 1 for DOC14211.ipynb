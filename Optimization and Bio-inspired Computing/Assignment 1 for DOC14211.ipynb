{
 "cells": [
  {
   "cell_type": "markdown",
   "id": "8b0792b0",
   "metadata": {},
   "source": [
    "# Assignment 1 by IDS2022006"
   ]
  },
  {
   "cell_type": "markdown",
   "id": "08771e15",
   "metadata": {},
   "source": [
    "# QUESTION 1"
   ]
  },
  {
   "cell_type": "markdown",
   "id": "9ea54d93",
   "metadata": {},
   "source": [
    "Plot the following data set and find out the parameters (m and c) of\n",
    "the best fit line. The equation of the line is: y = mx+c. Plot the data\n",
    "points and the best fit line together.\n",
    "x= 0 1 2 3 4 5; f(x)=1 5 10 22 38 45."
   ]
  },
  {
   "cell_type": "code",
   "execution_count": 15,
   "id": "9264f45e",
   "metadata": {},
   "outputs": [
    {
     "data": {
      "image/png": "[encoded data removed]",
      "text/plain": [
       "<Figure size 432x288 with 1 Axes>"
      ]
     },
     "metadata": {
      "needs_background": "light"
     },
     "output_type": "display_data"
    },
    {
     "name": "stdout",
     "output_type": "stream",
     "text": [
      "value of m: 9.457142857142857\n",
      "value of c: -3.4761904761904763\n"
     ]
    }
   ],
   "source": [
    "#Importing required Lib.\n",
    "\n",
    "\n",
    "import numpy as np\n",
    "import matplotlib.pyplot as plt\n",
    "\n",
    "#Initialise all the required variables\n",
    "\n",
    "x = [0,1,2,3,4,5]\n",
    "y = [1,5,10,22,38,45]\n",
    "xx=[]\n",
    "xy=[]\n",
    "N=len(x)\n",
    "for i in range(N):#taking loop for geeting X*X and X*Y\n",
    "    xx.append(x[i]*x[i])\n",
    "    xy.append(x[i]*y[i])\n",
    "\n",
    "sx=sum(x)#getting sum required variables\n",
    "sy=sum(y)\n",
    "sxx=sum(xx)\n",
    "sxy=sum(xy)\n",
    "# Calulating m and c\n",
    "\n",
    "m=(((sxy*N)-(sx*sy))/((N*sxx)-(sx*sx)))\n",
    "c=(((sxx*sy)-(sxy*sx))/((N*sxx)-(sx*sx)))\n",
    "#According to m and c getting xfit and yfit \n",
    "\n",
    "xfit=x\n",
    "yfit=[]\n",
    "for i in range(N):\n",
    "    yfit.append((m*xfit[i])+c)\n",
    "\n",
    "#Ploting Graphs\n",
    "plt.plot(xfit, yfit, color='#58b970', label='Regression Line')\n",
    "plt.scatter(x, y, c='#ef5423', label='data points')\n",
    "\n",
    "plt.xlabel('X')\n",
    "plt.ylabel('Y or f(x)')\n",
    "plt.legend()\n",
    "plt.title(\"Question 1 , y=mx+c\")\n",
    "plt.show()\n",
    "\n",
    "#printing value of m and c\n",
    "print (\"value of m:\",m)\n",
    "print (\"value of c:\",c)"
   ]
  },
  {
   "cell_type": "markdown",
   "id": "4b25cfa6",
   "metadata": {},
   "source": [
    "# QUESTION 2"
   ]
  },
  {
   "cell_type": "markdown",
   "id": "7562dc5d",
   "metadata": {},
   "source": [
    "Plot the following data set and find out the parameters (m and c) of\n",
    "the best fit line. The equation of the line is: y = mx+c. Plot the data\n",
    "points and the best fit line together.\n",
    "x= 0 1 2 3 4 5; f(x)=40 20 13 4 1 -3."
   ]
  },
  {
   "cell_type": "code",
   "execution_count": 11,
   "id": "701cbebc",
   "metadata": {},
   "outputs": [
    {
     "data": {
      "image/png": "[encoded data removed]",
      "text/plain": [
       "<Figure size 432x288 with 1 Axes>"
      ]
     },
     "metadata": {
      "needs_background": "light"
     },
     "output_type": "display_data"
    },
    {
     "name": "stdout",
     "output_type": "stream",
     "text": [
      "value of m: -8.028571428571428\n",
      "value of c: 32.57142857142857\n"
     ]
    }
   ],
   "source": [
    "import numpy as np\n",
    "import matplotlib.pyplot as plt\n",
    "import math \n",
    "x = [0,1,2,3,4,5]\n",
    "y = [40,20,13,4,1,-3]\n",
    "xx=[]\n",
    "xy=[]\n",
    "N=len(x)\n",
    "for i in range(N):\n",
    "    xx.append(x[i]*x[i])\n",
    "    xy.append(x[i]*y[i])\n",
    "\n",
    "sx=sum(x)\n",
    "sy=sum(y)\n",
    "sxx=sum(xx)\n",
    "sxy=sum(xy)\n",
    "\n",
    "# Calulating m and c\n",
    "\n",
    "m=(((sxy*N)-(sx*sy))/((N*sxx)-(sx*sx)))\n",
    "c=(((sxx*sy)-(sxy*sx))/((N*sxx)-(sx*sx)))\n",
    "\n",
    "#According to m and c getting xfit and yfit \n",
    "\n",
    "xfit=x\n",
    "yfit=[]\n",
    "for i in range(N):\n",
    "    yfit.append((m*xfit[i])+c)\n",
    "    \n",
    "#Ploting Graphs\n",
    "\n",
    "\n",
    "plt.plot(xfit, yfit, color='#58b970', label='Regression Line')\n",
    "plt.scatter(x, y, c='#ef5423', label='data points')\n",
    "\n",
    "plt.xlabel('X')\n",
    "plt.ylabel('Y or f(x)')\n",
    "plt.legend()\n",
    "plt.title(\"Question 2 , y=mx+c\")\n",
    "plt.show()\n",
    "\n",
    "#printing value of m and c\n",
    "\n",
    "print (\"value of m:\",m)\n",
    "print (\"value of c:\",c)"
   ]
  },
  {
   "cell_type": "markdown",
   "id": "d3db9f8e",
   "metadata": {},
   "source": [
    "# QUESTION 3"
   ]
  },
  {
   "cell_type": "markdown",
   "id": "58a0d1b2",
   "metadata": {},
   "source": [
    "Plot the following data set and find out the parameters (A and α) of\n",
    "the best fit line. The equation of the line: is y = Ae^(αx). Plot the data\n",
    "points and the best fit line together.\n",
    "x=0, 0.5, 1.5, 2.0, 2.5 ,3; f(x)=0.10, 0.45, 2.15, 9.15, 40.35, 180.75."
   ]
  },
  {
   "cell_type": "code",
   "execution_count": 12,
   "id": "e7daa0e5",
   "metadata": {},
   "outputs": [
    {
     "data": {
      "image/png": "[encoded data removed]",
      "text/plain": [
       "<Figure size 432x288 with 1 Axes>"
      ]
     },
     "metadata": {
      "needs_background": "light"
     },
     "output_type": "display_data"
    },
    {
     "name": "stdout",
     "output_type": "stream",
     "text": [
      "value of m: 2.4031984639944333\n",
      "value of c: -2.34292503666285\n",
      "value of A: 0.09604628803743688\n",
      "value of B: 2.4031984639944333\n"
     ]
    }
   ],
   "source": [
    "import numpy as np\n",
    "import matplotlib.pyplot as plt\n",
    "import math \n",
    "#Initialise all the required variables\n",
    "\n",
    "x = [0, 0.5, 1.5, 2.0, 2.5,3]\n",
    "y = [0.10, 0.45, 2.15, 9.15, 40.35, 180.75]\n",
    "xx=[]\n",
    "xy=[]\n",
    "sumy=0\n",
    "N=len(x)\n",
    "for i in range(len(x)):\n",
    "    xx.append(x[i]*x[i])\n",
    "    xy.append(x[i]*( math.log(y[i],10) /math.log(math.exp (1),10)))#Calulating in log to base e for y\n",
    "    sumy=sumy+( math.log(y[i],10) /math.log(math.exp (1),10))\n",
    "sx=sum(x)\n",
    "sy=sumy\n",
    "sxx=sum(xx)\n",
    "sxy=sum(xy)\n",
    "# Calulate m and c and giving there value to A and B\n",
    "\n",
    "m=(((sxy*N)-(sx*sy))/((N*sxx)-(sx*sx)))\n",
    "c=(((sxx*sy)-(sxy*sx))/((N*sxx)-(sx*sx)))\n",
    "B=m;\n",
    "A=math.exp(c)\n",
    "xfit=x\n",
    "yfit=[]\n",
    "# According to A and B getting xfit and yfit \n",
    "\n",
    "#y = exp(c) * exp(m * x) \n",
    "for i in range(len(xfit)):\n",
    "    yfit.append(A*math.exp(B*xfit[i]))\n",
    "\n",
    "# Ploting Graph\n",
    "\n",
    "plt.plot(xfit, yfit, color='#58b970', label='Regression Line')\n",
    "plt.scatter(x, y, c='#ef5423', label='data points')\n",
    "\n",
    "plt.xlabel('X')\n",
    "plt.ylabel('Y or f(x)')\n",
    "plt.legend()\n",
    "plt.title(\"Question 3 , y=Ae^(αx)\")\n",
    "\n",
    "plt.show()\n",
    "\n",
    "#printing value of m and c and A and B\n",
    "print (\"value of m:\",m)\n",
    "print (\"value of c:\",c)\n",
    "print (\"value of A:\",A)\n",
    "print (\"value of B:\",B)"
   ]
  },
  {
   "cell_type": "markdown",
   "id": "cc4a2085",
   "metadata": {},
   "source": [
    "# QUESTION 4"
   ]
  },
  {
   "cell_type": "markdown",
   "id": "a69a1adb",
   "metadata": {},
   "source": [
    "Plot the following data set and find out the parameters (A and α) of\n",
    "the best fit line. The equation of the line: is y = Ae^(-αx). Plot the data\n",
    "points and the best fit line together.\n",
    "x=0, 0.5, 1.0, 1.5, 2.0, 2.5, 3.0, 3.5, 4.0, 4.5, 5.0;\n",
    "f(x)=8.0, 5.8, 5.1, 3.8, 3.0, 2.9, 2.5, 1.7, 1.65, 1.5, 1.2."
   ]
  },
  {
   "cell_type": "code",
   "execution_count": 13,
   "id": "ec152592",
   "metadata": {},
   "outputs": [
    {
     "data": {
      "image/png": "[encoded data removed]",
      "text/plain": [
       "<Figure size 432x288 with 1 Axes>"
      ]
     },
     "metadata": {
      "needs_background": "light"
     },
     "output_type": "display_data"
    },
    {
     "name": "stdout",
     "output_type": "stream",
     "text": [
      "value of m: -0.3649388019235256\n",
      "value of c: 1.9578329163639328\n",
      "value of A: 7.083958887723959\n",
      "value of B: -0.3649388019235256\n"
     ]
    }
   ],
   "source": [
    "import numpy as np\n",
    "import matplotlib.pyplot as plt\n",
    "import math \n",
    "\n",
    "x = [0, 0.5, 1.0, 1.5, 2.0, 2.5, 3.0, 3.5, 4.0, 4.5, 5.0]\n",
    "y = [8.0, 5.8, 5.1, 3.8, 3.0, 2.9, 2.5, 1.7, 1.65, 1.5, 1.2]\n",
    "xx=[]\n",
    "xy=[]\n",
    "sumy=0\n",
    "N=len(x)\n",
    "for i in range(len(x)):\n",
    "    xx.append(x[i]*x[i])\n",
    "    xy.append(x[i]*( math.log(y[i],10) /math.log(math.exp (1),10)))#Calulating in log to base e for y\n",
    "    sumy=sumy+( math.log(y[i],10) /math.log(math.exp (1),10))\n",
    "\n",
    "sx=sum(x)\n",
    "sy=sumy\n",
    "sxx=sum(xx)\n",
    "sxy=sum(xy)\n",
    "# Calulate m and c and giving there value to A and B\n",
    "\n",
    "\n",
    "m=(((sxy*N)-(sx*sy))/((N*sxx)-(sx*sx)))\n",
    "c=(((sxx*sy)-(sxy*sx))/((N*sxx)-(sx*sx)))\n",
    "B=m;\n",
    "A=math.exp(c)\n",
    "\n",
    "# According to A and B getting xfit and yfit \n",
    "\n",
    "xfit=x\n",
    "yfit=[]\n",
    "#y = exp(c) * exp(m * x)\n",
    "for i in range(len(xfit)):\n",
    "    yfit.append(A*math.exp(B*xfit[i]))\n",
    "    \n",
    "    \n",
    "# Ploting Graph\n",
    "\n",
    "\n",
    "plt.plot(xfit, yfit, color='#58b970', label='Regression Line')\n",
    "plt.scatter(x, y, c='#ef5423', label='data points')\n",
    "\n",
    "plt.xlabel('X')\n",
    "plt.ylabel('Y or f(x)')\n",
    "plt.legend()\n",
    "plt.title(\"Question 4 , y=Ae^(-αx)\")\n",
    "plt.show()\n",
    "#printing value of m and c and A and B\n",
    "\n",
    "\n",
    "print (\"value of m:\",m)\n",
    "print (\"value of c:\",c)\n",
    "print (\"value of A:\",A)\n",
    "print (\"value of B:\",B)"
   ]
  },
  {
   "cell_type": "code",
   "execution_count": 1,
   "id": "2d508adb",
   "metadata": {},
   "outputs": [
    {
     "data": {
      "image/png": "[encoded data removed]",
      "text/plain": [
       "<Figure size 432x288 with 1 Axes>"
      ]
     },
     "metadata": {
      "needs_background": "light"
     },
     "output_type": "display_data"
    },
    {
     "name": "stdout",
     "output_type": "stream",
     "text": [
      "value of m: -0.3649388019235255\n",
      "value of c: 1.9578329163639323\n"
     ]
    }
   ],
   "source": [
    "import numpy as np\n",
    "import matplotlib.pyplot as plt\n",
    "import math \n",
    "\n",
    "x = [0, 0.5, 1.0, 1.5, 2.0, 2.5, 3.0, 3.5, 4.0, 4.5, 5.0]\n",
    "y = [8.0, 5.8, 5.1, 3.8, 3.0, 2.9, 2.5, 1.7, 1.65, 1.5, 1.2]\n",
    "xx=[]\n",
    "xy=[]\n",
    "sumy=0\n",
    "N=len(x)\n",
    "for i in range(len(x)):\n",
    "    xx.append(x[i]*x[i])\n",
    "    xy.append(x[i]*( math.log(y[i],math.exp(1)))) \n",
    "    sumy=sumy+( math.log(y[i],math.exp (1))) \n",
    "sx=sum(x)\n",
    "sy=sumy\n",
    "sxx=sum(xx)\n",
    "sxy=sum(xy)\n",
    "\n",
    "m=(((sxy*N)-(sx*sy))/((N*sxx)-(sx*sx)))\n",
    "c=(((sxx*sy)-(sxy*sx))/((N*sxx)-(sx*sx)))\n",
    "B=m;\n",
    "A=math.exp(c)\n",
    "xfit=x\n",
    "yfit=[]\n",
    "#y = exp(c) * exp(m * x)\n",
    "for i in range(len(xfit)):\n",
    "    #yfit.append((m*xfit[i])+c)\n",
    "    yfit.append(A*math.exp(B*xfit[i]))\n",
    "\n",
    "plt.plot(xfit, yfit, color='#58b970', label='Regression Line')\n",
    "plt.scatter(x, y, c='#ef5423', label='data points')\n",
    "\n",
    "plt.xlabel('X')\n",
    "plt.ylabel('Y')\n",
    "plt.legend()\n",
    "plt.show()\n",
    "print (\"value of m:\",m)\n",
    "print (\"value of c:\",c)"
   ]
  },
  {
   "cell_type": "code",
   "execution_count": null,
   "id": "7572b157",
   "metadata": {},
   "outputs": [],
   "source": []
  }
 ],
 "metadata": {
  "kernelspec": {
   "display_name": "Python 3 (ipykernel)",
   "language": "python",
   "name": "python3"
  },
  "language_info": {
   "codemirror_mode": {
    "name": "ipython",
    "version": 3
   },
   "file_extension": ".py",
   "mimetype": "text/x-python",
   "name": "python",
   "nbconvert_exporter": "python",
   "pygments_lexer": "ipython3",
   "version": "3.9.7"
  }
 },
 "nbformat": 4,
 "nbformat_minor": 5
}
