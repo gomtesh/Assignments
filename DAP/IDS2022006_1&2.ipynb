{
 "cells": [
  {
   "cell_type": "markdown",
   "id": "e0fd2343",
   "metadata": {},
   "source": [
    "# que 2"
   ]
  },
  {
   "cell_type": "code",
   "execution_count": 29,
   "id": "bd65942d",
   "metadata": {},
   "outputs": [
    {
     "name": "stdout",
     "output_type": "stream",
     "text": [
      "22\n"
     ]
    }
   ],
   "source": [
    "num = 12\n",
    "sum=0\n",
    "for x in range(1, num + 1):\n",
    "    if(num % x == 0):\n",
    "        flag = True\n",
    "        for y in range(2, int(x/2 + 1)):\n",
    "            if(x % y == 0):\n",
    "                flag = False\n",
    "                break\n",
    "            \n",
    "        if (flag == False):\n",
    "            sum=sum+x\n",
    "print(sum)"
   ]
  },
  {
   "cell_type": "markdown",
   "id": "5aafee39",
   "metadata": {},
   "source": [
    "# que 1\n"
   ]
  },
  {
   "cell_type": "code",
   "execution_count": 27,
   "id": "6d7c8465",
   "metadata": {},
   "outputs": [
    {
     "name": "stdout",
     "output_type": "stream",
     "text": [
      "2\n",
      "3\n"
     ]
    }
   ],
   "source": [
    "num = 6\n",
    "for x in range(2, num + 1):\n",
    "    if(num % x == 0):\n",
    "        flag = 1\n",
    "        for y in range(2, int(x/2 + 1)):\n",
    "            if(x % y == 0):\n",
    "                flag = 0\n",
    "                break\n",
    "            \n",
    "        if (flag == 1):\n",
    "            print(x)"
   ]
  },
  {
   "cell_type": "code",
   "execution_count": null,
   "id": "6058e3f4",
   "metadata": {},
   "outputs": [],
   "source": []
  }
 ],
 "metadata": {
  "kernelspec": {
   "display_name": "Python 3 (ipykernel)",
   "language": "python",
   "name": "python3"
  },
  "language_info": {
   "codemirror_mode": {
    "name": "ipython",
    "version": 3
   },
   "file_extension": ".py",
   "mimetype": "text/x-python",
   "name": "python",
   "nbconvert_exporter": "python",
   "pygments_lexer": "ipython3",
   "version": "3.9.7"
  }
 },
 "nbformat": 4,
 "nbformat_minor": 5
}
