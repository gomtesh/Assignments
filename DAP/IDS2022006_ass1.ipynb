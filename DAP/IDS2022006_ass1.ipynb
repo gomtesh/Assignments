{
 "cells": [
  {
   "cell_type": "markdown",
   "id": "7985818f",
   "metadata": {},
   "source": [
    "# 1. Print out the list of all odd prime numbers upto 100."
   ]
  },
  {
   "cell_type": "code",
   "execution_count": 9,
   "id": "2725ba91",
   "metadata": {},
   "outputs": [
    {
     "name": "stdout",
     "output_type": "stream",
     "text": [
      "[2, 3, 5, 7, 11, 13, 17, 19, 23, 29, 31, 37, 41, 43, 47, 53, 59, 61, 67, 71, 73, 79, 83, 89, 97]\n"
     ]
    }
   ],
   "source": [
    "pn=[]\n",
    "for j in range(2,100):\n",
    "    num = j\n",
    "\n",
    "    if num > 1:\n",
    "\n",
    "        for i in range(2, int(num/2)+1):\n",
    "\n",
    "            if (num % i) == 0:\n",
    "                break\n",
    "        else:\n",
    "            pn.append(j)\n",
    "print(pn)"
   ]
  },
  {
   "cell_type": "markdown",
   "id": "1b1261d8",
   "metadata": {},
   "source": [
    "# 2. Find out the 2nd minimum and the 3rd maximum from a list of 10 numbers as defined by the user."
   ]
  },
  {
   "cell_type": "code",
   "execution_count": 15,
   "id": "6d7bb9c7",
   "metadata": {},
   "outputs": [
    {
     "name": "stdout",
     "output_type": "stream",
     "text": [
      "enter no22\n",
      "enter no44\n",
      "enter no55\n",
      "enter no1\n",
      "enter no2\n",
      "enter no77\n",
      "enter no32\n",
      "enter no12\n",
      "enter no46\n",
      "enter no48\n",
      "[22, 44, 55, 1, 2, 77, 32, 12, 46, 48]\n",
      "[1, 2, 12, 22, 32, 44, 46, 48, 55, 77]\n",
      "2\n",
      "48\n"
     ]
    }
   ],
   "source": [
    "lst = []\n",
    "for i in range(0, 10):\n",
    "    ele = int(input(\"enter no\"))\n",
    " \n",
    "    lst.append(ele)\n",
    "print(lst)\n",
    "lst.sort()\n",
    "print(lst)\n",
    "print(lst[1])\n",
    "print(lst[-3])\n"
   ]
  },
  {
   "cell_type": "markdown",
   "id": "9c795ec6",
   "metadata": {},
   "source": [
    "# 3. Print the list of factorial of the first 10 numbers."
   ]
  },
  {
   "cell_type": "code",
   "execution_count": 20,
   "id": "00d7489e",
   "metadata": {},
   "outputs": [
    {
     "name": "stdout",
     "output_type": "stream",
     "text": [
      "[1, 2, 6, 24, 120, 720, 5040, 40320, 362880, 3628800]\n"
     ]
    }
   ],
   "source": [
    "f=[]\n",
    "for i in range(0,10):\n",
    "    num=i\n",
    "    fact=1\n",
    "    while(i!=0):\n",
    "        fact=fact+fact*i\n",
    "        i=i-1\n",
    "    f.append(fact)\n",
    "print(f)"
   ]
  },
  {
   "cell_type": "markdown",
   "id": "a8e63afc",
   "metadata": {},
   "source": [
    "# 4. Print the list of squares of first 10 odd numbers."
   ]
  },
  {
   "cell_type": "code",
   "execution_count": 21,
   "id": "0be24c1a",
   "metadata": {},
   "outputs": [
    {
     "name": "stdout",
     "output_type": "stream",
     "text": [
      "[1, 9, 25, 49, 81, 121, 169, 225, 289, 361]\n"
     ]
    }
   ],
   "source": [
    "s=[]\n",
    "for i in range(1,20):\n",
    "    if (i%2 !=0):\n",
    "        s.append(i*i)\n",
    "print(s)"
   ]
  },
  {
   "cell_type": "code",
   "execution_count": null,
   "id": "44eab73e",
   "metadata": {},
   "outputs": [],
   "source": []
  }
 ],
 "metadata": {
  "kernelspec": {
   "display_name": "Python 3 (ipykernel)",
   "language": "python",
   "name": "python3"
  },
  "language_info": {
   "codemirror_mode": {
    "name": "ipython",
    "version": 3
   },
   "file_extension": ".py",
   "mimetype": "text/x-python",
   "name": "python",
   "nbconvert_exporter": "python",
   "pygments_lexer": "ipython3",
   "version": "3.9.7"
  }
 },
 "nbformat": 4,
 "nbformat_minor": 5
}
