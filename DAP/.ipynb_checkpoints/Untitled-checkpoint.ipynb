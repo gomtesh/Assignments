{
 "cells": [
  {
   "cell_type": "code",
   "execution_count": 1,
   "id": "2c6a7ed9",
   "metadata": {},
   "outputs": [
    {
     "name": "stdout",
     "output_type": "stream",
     "text": [
      "1 fact 1\n",
      "2 fact 2\n",
      "3 fact 6\n",
      "4 fact 24\n",
      "5 fact 120\n",
      "6 fact 720\n",
      "7 fact 5040\n",
      "8 fact 40320\n",
      "9 fact 362880\n",
      "10 fact 3628800\n"
     ]
    }
   ],
   "source": [
    "for n in range(1,11):\n",
    "    fact=1\n",
    "    for i in range(1,n+1):\n",
    "        fact=fact*i\n",
    "    print(i,\"fact\",fact)"
   ]
  },
  {
   "cell_type": "code",
   "execution_count": 7,
   "id": "bd51070e",
   "metadata": {},
   "outputs": [
    {
     "name": "stdout",
     "output_type": "stream",
     "text": [
      "dt\n"
     ]
    }
   ],
   "source": [
    "s=\"data\"\n",
    "res=''\n",
    "for i in range(len(s)):\n",
    "    if i%2==0:\n",
    "        res=res+s[i]\n",
    "print(res)"
   ]
  },
  {
   "cell_type": "code",
   "execution_count": 9,
   "id": "c83da516",
   "metadata": {},
   "outputs": [
    {
     "name": "stdout",
     "output_type": "stream",
     "text": [
      "[1, 2, 3, 4, 5]\n"
     ]
    }
   ],
   "source": [
    "n=[1,2,1,2,3,4,5,2,3]\n",
    "lnew=[]\n",
    "for i in range(len(n)):\n",
    "    if (n[i] in lnew):\n",
    "        continue\n",
    "    else:\n",
    "        lnew.append(n[i])\n",
    "print(lnew)"
   ]
  },
  {
   "cell_type": "code",
   "execution_count": 10,
   "id": "9040dcf0",
   "metadata": {},
   "outputs": [
    {
     "name": "stdout",
     "output_type": "stream",
     "text": [
      "13\n"
     ]
    }
   ],
   "source": [
    "s=\"ids2022007\"\n",
    "sum=0\n",
    "for i in s:\n",
    "    if i.isnumeric():\n",
    "        sum=sum+int(i);\n",
    "print(sum)"
   ]
  },
  {
   "cell_type": "code",
   "execution_count": 2,
   "id": "3763c286",
   "metadata": {},
   "outputs": [
    {
     "name": "stdout",
     "output_type": "stream",
     "text": [
      "Enter a string:aabbccd\n",
      "['a', 'b', 'c', 'd']\n",
      "a\n",
      "b\n",
      "c\n"
     ]
    }
   ],
   "source": [
    "def unique_character(n):\n",
    "    x=[]\n",
    "    for i in n:\n",
    "        if i not in x:\n",
    "            x.append(i)\n",
    "    return x\n",
    "n=(input('Enter a string:'))\n",
    "x=unique_character(n)\n",
    "print(x)\n",
    "count=1\n",
    "c=[]\n",
    "for i in range(len(x)):\n",
    "    count=0\n",
    "    for j in range(len(n)):\n",
    "        if(n[j]==x[i]):\n",
    "            count=count+1\n",
    "    c.append(count)\n",
    "    \n",
    "for i in x:\n",
    "    if n.count(i)==max(c):\n",
    "        print(i)"
   ]
  },
  {
   "cell_type": "code",
   "execution_count": null,
   "id": "85bf737f",
   "metadata": {},
   "outputs": [],
   "source": [
    "s=\"ids2022001\"\n",
    "\n",
    "re=0\n",
    "for i in s:\n",
    "    if i.isdigit():\n",
    "        re=re+int(i);\n",
    "print(re)\n",
    "        "
   ]
  },
  {
   "cell_type": "code",
   "execution_count": 8,
   "id": "bab58f7f",
   "metadata": {},
   "outputs": [
    {
     "name": "stdout",
     "output_type": "stream",
     "text": [
      "Enter a string:aabbc\n",
      "b\n",
      "a\n"
     ]
    }
   ],
   "source": [
    "n=(input('Enter a string:'))\n",
    "u=list(set(n))\n",
    "c=[]\n",
    "for i in range(len(u)):\n",
    "    count=0\n",
    "    for j in range(len(n)):\n",
    "        if(n[j]==u[i]):\n",
    "            count=count+1\n",
    "    c.append(count)\n",
    "m=max(c)    \n",
    "for i in u:\n",
    "    if m==n.count(i):\n",
    "        print(i)"
   ]
  },
  {
   "cell_type": "code",
   "execution_count": 4,
   "id": "04ced402",
   "metadata": {},
   "outputs": [
    {
     "name": "stdout",
     "output_type": "stream",
     "text": [
      "1\n",
      "2\n"
     ]
    }
   ],
   "source": [
    "if True:\n",
    "    print(\"1\")\n",
    "if 1:\n",
    "    print(\"2\")    \n",
    "if 0:\n",
    "    print(\"3\")\n",
    "if False:\n",
    "    print(\"4\")"
   ]
  },
  {
   "cell_type": "code",
   "execution_count": null,
   "id": "147cfa3a",
   "metadata": {},
   "outputs": [],
   "source": [
    "if (condition)\n",
    "if x%i !=0\n",
    "condition <=,==,<,> , >=,!=,  \n",
    "\n",
    "\n",
    "if true\n",
    "    jhdf\n",
    "else:false\n",
    "    jdhkjsf\n",
    "hi==hi"
   ]
  },
  {
   "cell_type": "code",
   "execution_count": 8,
   "id": "b35adec8",
   "metadata": {},
   "outputs": [
    {
     "data": {
      "text/plain": [
       "False"
      ]
     },
     "execution_count": 8,
     "metadata": {},
     "output_type": "execute_result"
    }
   ],
   "source": [
    "not 4%2==0"
   ]
  },
  {
   "cell_type": "code",
   "execution_count": 6,
   "id": "1f04d68e",
   "metadata": {},
   "outputs": [
    {
     "data": {
      "text/plain": [
       "True"
      ]
     },
     "execution_count": 6,
     "metadata": {},
     "output_type": "execute_result"
    }
   ],
   "source": [
    "x"
   ]
  },
  {
   "cell_type": "code",
   "execution_count": 9,
   "id": "3b859cbb",
   "metadata": {},
   "outputs": [
    {
     "ename": "SyntaxError",
     "evalue": "invalid syntax (93631416.py, line 3)",
     "output_type": "error",
     "traceback": [
      "\u001b[0;36m  File \u001b[0;32m\"/var/folders/yb/c1_9y4655151dq56_3k140br0000gn/T/ipykernel_80826/93631416.py\"\u001b[0;36m, line \u001b[0;32m3\u001b[0m\n\u001b[0;31m    else\u001b[0m\n\u001b[0m         ^\u001b[0m\n\u001b[0;31mSyntaxError\u001b[0m\u001b[0;31m:\u001b[0m invalid syntax\n"
     ]
    }
   ],
   "source": [
    "if (primecheck(i)):\n",
    "    dfhs\n",
    "else \n",
    "    dlslkg"
   ]
  },
  {
   "cell_type": "code",
   "execution_count": 80,
   "id": "227d56ab",
   "metadata": {},
   "outputs": [],
   "source": [
    "def primec(x):\n",
    "    for i in range(2,(x//2)+1):\n",
    "        if(x%i==0):\n",
    "            return False\n",
    "    else:\n",
    "        return True\n",
    "\n",
    "           \n",
    "        "
   ]
  },
  {
   "cell_type": "code",
   "execution_count": 70,
   "id": "e67d1644",
   "metadata": {},
   "outputs": [
    {
     "name": "stdout",
     "output_type": "stream",
     "text": [
      "How many numbers:1\n",
      "Enter number:1\n"
     ]
    }
   ],
   "source": [
    "b=[]\n",
    "m=input('How many numbers:')\n",
    "num_list=int(m)\n",
    "for n in range(num_list):\n",
    "    k=input('Enter number:')\n",
    "    b.append(int(k))"
   ]
  },
  {
   "cell_type": "code",
   "execution_count": 90,
   "id": "21c2d54f",
   "metadata": {},
   "outputs": [
    {
     "name": "stdout",
     "output_type": "stream",
     "text": [
      "[6, 8, 9]\n"
     ]
    }
   ],
   "source": [
    "def primec(x):\n",
    "    for i in range(2,(x//2)+1):\n",
    "        if(x%i==0):\n",
    "            return False\n",
    "    else:\n",
    "        return True\n",
    "b=[2,3,4,5,6,8,9,11]\n",
    "#b=[2,3,4,6,8,11]\n",
    "#b=[2,3,4,6]\n",
    "b1=[]\n",
    "b2=[]\n",
    "\n",
    "c=0\n",
    "for i in range(len(b)):\n",
    "    if(primec(b[i])):\n",
    "        c=0\n",
    "        b2.append(c)    \n",
    "    else:\n",
    "        c=c+1\n",
    "        b2.append(c)\n",
    "    b1.append(i)\n",
    "          \n",
    "num=max(b2)\n",
    "i=b2.index(num)\n",
    "print(b[(i-num+1):i+1]) "
   ]
  },
  {
   "cell_type": "code",
   "execution_count": 56,
   "id": "a06f22db",
   "metadata": {},
   "outputs": [
    {
     "data": {
      "text/plain": [
       "6"
      ]
     },
     "execution_count": 56,
     "metadata": {},
     "output_type": "execute_result"
    }
   ],
   "source": [
    "last_pos"
   ]
  },
  {
   "cell_type": "code",
   "execution_count": 57,
   "id": "3a4095d9",
   "metadata": {},
   "outputs": [
    {
     "data": {
      "text/plain": [
       "3"
      ]
     },
     "execution_count": 57,
     "metadata": {},
     "output_type": "execute_result"
    }
   ],
   "source": [
    "max(d)"
   ]
  },
  {
   "cell_type": "code",
   "execution_count": 59,
   "id": "bdce5e98",
   "metadata": {},
   "outputs": [
    {
     "data": {
      "text/plain": [
       "[5, 6, 8, 9]"
      ]
     },
     "execution_count": 59,
     "metadata": {},
     "output_type": "execute_result"
    }
   ],
   "source": [
    "b[3:6+1]"
   ]
  },
  {
   "cell_type": "code",
   "execution_count": 77,
   "id": "64d42229",
   "metadata": {},
   "outputs": [
    {
     "data": {
      "text/plain": [
       "True"
      ]
     },
     "execution_count": 77,
     "metadata": {},
     "output_type": "execute_result"
    }
   ],
   "source": [
    "prime(5)"
   ]
  },
  {
   "cell_type": "code",
   "execution_count": null,
   "id": "dc07e0cd",
   "metadata": {},
   "outputs": [],
   "source": [
    "s1=input(\"enter a string \")\n",
    "s2=input(\"enter a substring \")\n",
    "x=s1.count(s2)\n"
   ]
  },
  {
   "cell_type": "code",
   "execution_count": 94,
   "id": "cce3a805",
   "metadata": {},
   "outputs": [
    {
     "name": "stdout",
     "output_type": "stream",
     "text": [
      "Enter a string:aaddavaq\n",
      "a = 4 d = 2 v = 1 q = 1 "
     ]
    }
   ],
   "source": [
    "def u_char_in_string(n):\n",
    "    x=[]\n",
    "    for i in n:\n",
    "        if i not in x:\n",
    "            x.append(i)\n",
    "    return x\n",
    "n=(input('Enter a string:'))\n",
    "x=u_char_in_string(n)\n",
    "count=1\n",
    "c=[]\n",
    "for i in range(len(x)):\n",
    "    count=0\n",
    "    for j in range(len(n)):\n",
    "        if(n[j]==x[i]):\n",
    "            count=count+1\n",
    "    c.append(count)\n",
    "\n",
    "for i in range(len(x)):\n",
    "    print(x[i] + \" = \" + str(c[i]),end=\" \")"
   ]
  },
  {
   "cell_type": "code",
   "execution_count": null,
   "id": "1dcbe79a",
   "metadata": {},
   "outputs": [],
   "source": []
  }
 ],
 "metadata": {
  "kernelspec": {
   "display_name": "Python 3 (ipykernel)",
   "language": "python",
   "name": "python3"
  },
  "language_info": {
   "codemirror_mode": {
    "name": "ipython",
    "version": 3
   },
   "file_extension": ".py",
   "mimetype": "text/x-python",
   "name": "python",
   "nbconvert_exporter": "python",
   "pygments_lexer": "ipython3",
   "version": "3.9.7"
  }
 },
 "nbformat": 4,
 "nbformat_minor": 5
}
