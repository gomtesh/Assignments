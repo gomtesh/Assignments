{
 "cells": [
  {
   "cell_type": "markdown",
   "id": "50d7dc28",
   "metadata": {},
   "source": [
    "# Assignment-3 by IDS2022006"
   ]
  },
  {
   "cell_type": "markdown",
   "id": "3484915c",
   "metadata": {},
   "source": [
    "Q1 Read ‘n’ integers. Print the longest subsequence of non - prime numbers (without any break).\n",
    "Follow the test cases as given below."
   ]
  },
  {
   "cell_type": "code",
   "execution_count": 90,
   "id": "fcf127a3",
   "metadata": {},
   "outputs": [
    {
     "name": "stdout",
     "output_type": "stream",
     "text": [
      "[14, 15, 16, 18]\n"
     ]
    }
   ],
   "source": [
    "def primen(num):\n",
    "    if num > 1:\n",
    "        for i in range(2, int(num/2)+1):\n",
    "\n",
    "            if (num % i) == 0:\n",
    "                return False\n",
    "        else:\n",
    "            return True\n",
    "n=[2,3,3,5,3,11,14,15,16,18]\n",
    "\n",
    "\n",
    "#Test case 1 \n",
    "#n=[2,3,4,6,9,11]\n",
    "#Test case 2\n",
    "#n=[2,3,4,6,9,13]\n",
    "#Test case 3\n",
    "#n=[3,9,14,15,17,19]\n",
    "\n",
    "\n",
    "l1=[]#index\n",
    "l2=[]#length of  subsequence\n",
    "count=0\n",
    "for i in range(len(n)) :\n",
    "    if not primen(n[i]):\n",
    "        if count==0:\n",
    "            l1.append(i)\n",
    "        count=count+1\n",
    "        continue\n",
    "    else:\n",
    "        if count >0:\n",
    "            l2.append(count)\n",
    "        count =0\n",
    "l2.append(count)\n",
    "if l1 : # to check no non prime no.\n",
    "    maxp=l2.index(max(l2))\n",
    "    pos=l1[maxp]\n",
    "    print(n[pos:pos+max(l2)])\n",
    "else:\n",
    "    print(\"null\")\n",
    "     \n",
    "\n",
    "    "
   ]
  },
  {
   "cell_type": "code",
   "execution_count": 85,
   "id": "ae0d0c5f",
   "metadata": {},
   "outputs": [
    {
     "data": {
      "text/plain": [
       "True"
      ]
     },
     "execution_count": 85,
     "metadata": {},
     "output_type": "execute_result"
    }
   ],
   "source": [
    "not l1 "
   ]
  },
  {
   "cell_type": "markdown",
   "id": "67695490",
   "metadata": {},
   "source": [
    "Q2. Count the occurrence of each character (which is case sensitive) in the input string and print them."
   ]
  },
  {
   "cell_type": "code",
   "execution_count": 32,
   "id": "e541ad73",
   "metadata": {},
   "outputs": [
    {
     "name": "stdout",
     "output_type": "stream",
     "text": [
      "h = 1 e = 1 l = 2 o = 1 "
     ]
    }
   ],
   "source": [
    "s=input(\"enter a string \")\n",
    "#Test case 1\n",
    "#s=\"dSAADv\"\n",
    "#Test case 2\n",
    "#s=\"data\"\n",
    "#Test case 3\n",
    "#s=\"hello\"\n",
    "\n",
    "#without using dictionary and Counter lib.\n",
    "\n",
    "\n",
    "ls=list(s)\n",
    "lu=[] # store unique char\n",
    "for i in s:\n",
    "    if (i not in lu):\n",
    "        lu.append(i)\n",
    "lcount=[] #store char count\n",
    "for i in lu:\n",
    "    lcount.append(ls.count(i))\n",
    "for i in range(len(lu)):\n",
    "    print(lu[i] + \" = \" + str(lcount[i]),end=\" \")\n"
   ]
  },
  {
   "cell_type": "markdown",
   "id": "42413352",
   "metadata": {},
   "source": [
    "3.Check if there are one or more such substrings with the input string print the count of occurrences."
   ]
  },
  {
   "cell_type": "code",
   "execution_count": 39,
   "id": "28df4bd8",
   "metadata": {},
   "outputs": [
    {
     "name": "stdout",
     "output_type": "stream",
     "text": [
      "2\n"
     ]
    }
   ],
   "source": [
    "s1=input(\"enter a string \")\n",
    "s2=input(\"enter a substring \")\n",
    "\n",
    "#Test case 1\n",
    "#s1=\"abcabcd\"\n",
    "#s2=\"abc\"\n",
    "#Test case 2\n",
    "#s1=\"incoming\"\n",
    "#s2=\"in\"\n",
    "#Test case 3\n",
    "#s1=\"hello\"\n",
    "#s2=\"ab\"\n",
    "x=s1.count(s2)\n",
    "if(x==0):\n",
    "    print(\"NULL\")\n",
    "else:\n",
    "    print(x)"
   ]
  },
  {
   "cell_type": "code",
   "execution_count": null,
   "id": "f11b224a",
   "metadata": {},
   "outputs": [],
   "source": []
  }
 ],
 "metadata": {
  "kernelspec": {
   "display_name": "Python 3 (ipykernel)",
   "language": "python",
   "name": "python3"
  },
  "language_info": {
   "codemirror_mode": {
    "name": "ipython",
    "version": 3
   },
   "file_extension": ".py",
   "mimetype": "text/x-python",
   "name": "python",
   "nbconvert_exporter": "python",
   "pygments_lexer": "ipython3",
   "version": "3.9.7"
  }
 },
 "nbformat": 4,
 "nbformat_minor": 5
}
