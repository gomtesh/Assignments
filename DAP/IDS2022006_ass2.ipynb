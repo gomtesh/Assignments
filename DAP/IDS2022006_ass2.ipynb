{
 "cells": [
  {
   "cell_type": "markdown",
   "id": "50d7dc28",
   "metadata": {},
   "source": [
    "# Assignment-2 by IDS2022006"
   ]
  },
  {
   "cell_type": "markdown",
   "id": "039e3f44",
   "metadata": {},
   "source": [
    "Q1. Write a program to print the characters which have odd positions in a given string."
   ]
  },
  {
   "cell_type": "code",
   "execution_count": 55,
   "id": "f82ac776",
   "metadata": {},
   "outputs": [
    {
     "name": "stdout",
     "output_type": "stream",
     "text": [
      "enter a string iiita\n"
     ]
    },
    {
     "data": {
      "text/plain": [
       "'iia'"
      ]
     },
     "execution_count": 55,
     "metadata": {},
     "output_type": "execute_result"
    }
   ],
   "source": [
    "s=input(\"enter a string \")\n",
    "#Test case 1 # in pdf output is ita which is wrong. \n",
    "#s=\"iiita\"\n",
    "#Test case 2\n",
    "#s=\"dsa2022\"\n",
    "#Test case 3\n",
    "#s=\"python\"\n",
    "rs=\"\"\n",
    "for i in range(0,len(s),2):\n",
    "    rs=rs+s[i]\n",
    "rs\n"
   ]
  },
  {
   "cell_type": "markdown",
   "id": "d60fc4c0",
   "metadata": {},
   "source": [
    "Q2. Given a list of numbers, write a program to print all the unique elements in a new list"
   ]
  },
  {
   "cell_type": "code",
   "execution_count": 20,
   "id": "6c83d818",
   "metadata": {},
   "outputs": [
    {
     "name": "stdout",
     "output_type": "stream",
     "text": [
      "[2, 6, 9, 13]\n"
     ]
    }
   ],
   "source": [
    "#Test case 1 \n",
    "#l=[1, 2, 3, 2, 3]\n",
    "#Test case 2\n",
    "#=[5, 6, 6, 10, 5]\n",
    "#Test case 3\n",
    "l=[2, 2, 6, 6, 9, 13]\n",
    "\n",
    "lnew=[]\n",
    "\n",
    "#using set\n",
    "#lnew=list(set(l));\n",
    "\n",
    "#using loop\n",
    "for i in l:\n",
    "    if (i not in lnew):\n",
    "        lnew.append(i)\n",
    "print(lnew)\n",
    "\n",
    "\n"
   ]
  },
  {
   "cell_type": "markdown",
   "id": "7c087ee0",
   "metadata": {},
   "source": [
    "Q3. Write a program to find the maximum number of repeated characters in a given string. In case of a tie\n",
    "print both the characters."
   ]
  },
  {
   "cell_type": "code",
   "execution_count": 54,
   "id": "470972e4",
   "metadata": {},
   "outputs": [
    {
     "name": "stdout",
     "output_type": "stream",
     "text": [
      "enter a string hhiiyyttt\n",
      "t\n"
     ]
    }
   ],
   "source": [
    "s=input(\"enter a string \")\n",
    "#Test case 1\n",
    "#s=\"hello\"\n",
    "#Test case 2\n",
    "#s=\"data\"\n",
    "#Test case 3\n",
    "#s=\"students\"\n",
    "\n",
    "#without using dictionary and Counter lib.\n",
    "\n",
    "\n",
    "ls=list(s)\n",
    "lu=[] # store unique char\n",
    "for i in s:\n",
    "    if (i not in lu):\n",
    "        lu.append(i)\n",
    "lcount=[] #store char count\n",
    "for i in lu:\n",
    "    lcount.append(ls.count(i))\n",
    "for i in lu:\n",
    "    if ls.count(i)==max(lcount):\n",
    "        print(i)\n"
   ]
  },
  {
   "cell_type": "markdown",
   "id": "0d73894d",
   "metadata": {},
   "source": [
    "Q4. Calculate sum of numbers in your Roll No and print them as shown in test case."
   ]
  },
  {
   "cell_type": "code",
   "execution_count": 24,
   "id": "ddeb57f9",
   "metadata": {},
   "outputs": [
    {
     "name": "stdout",
     "output_type": "stream",
     "text": [
      "13\n"
     ]
    }
   ],
   "source": [
    "s=input(\"enter a string \")\n",
    "\n",
    "#Test case 1\n",
    "#s=\"ids2022001\"\n",
    "#Test case 2\n",
    "#s=\"ids2022004\"\n",
    "#Test case 3\n",
    "#s=\"ids2022007\"\n",
    "sum=0\n",
    "for i in s:\n",
    "    if i.isdigit():\n",
    "        sum=sum+int(i);\n",
    "print(sum)\n",
    "        "
   ]
  },
  {
   "cell_type": "code",
   "execution_count": 4,
   "id": "0dc19e38",
   "metadata": {},
   "outputs": [
    {
     "name": "stdout",
     "output_type": "stream",
     "text": [
      "roll numberids202\n",
      "4\n"
     ]
    }
   ],
   "source": [
    "a=0\n",
    "n=(input(\"roll number\",))\n",
    "n=int(n[3:])\n",
    "while(n>0) :  \n",
    "    m=n%10   \n",
    "    a=a+m   \n",
    "    n=n//10   \n",
    "\n",
    "print(a)"
   ]
  },
  {
   "cell_type": "code",
   "execution_count": null,
   "id": "62665f58",
   "metadata": {},
   "outputs": [],
   "source": []
  }
 ],
 "metadata": {
  "kernelspec": {
   "display_name": "Python 3 (ipykernel)",
   "language": "python",
   "name": "python3"
  },
  "language_info": {
   "codemirror_mode": {
    "name": "ipython",
    "version": 3
   },
   "file_extension": ".py",
   "mimetype": "text/x-python",
   "name": "python",
   "nbconvert_exporter": "python",
   "pygments_lexer": "ipython3",
   "version": "3.9.7"
  }
 },
 "nbformat": 4,
 "nbformat_minor": 5
}
